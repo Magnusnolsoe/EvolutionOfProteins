{
 "cells": [
  {
   "cell_type": "markdown",
   "metadata": {},
   "source": [
    "# Evolution of Proteins tutorial"
   ]
  },
  {
   "cell_type": "markdown",
   "metadata": {},
   "source": [
    "## Loading the data\n",
    "\n",
    "First lets load the data. For the purposes of this tutorial a small sample dataset of 1000 proteins has been created. If we run the pipeline of the data-loader it will load the data, sort the proteins from longest to shortest and finally create a train/test split. We can then pass the data to the data-iterator, so that we can easily iterate over the data when training. \n",
    "\n",
    "If the tqdm package is not installed, then uncomment the line so it will be installed. "
   ]
  },
  {
   "cell_type": "code",
   "execution_count": 44,
   "metadata": {},
   "outputs": [],
   "source": [
    "# !pip install tqdm\n",
    "\n",
    "import torch\n",
    "import torch.optim as optim\n",
    "import matplotlib.pyplot as plt\n",
    "from tqdm import tqdm_notebook as tqdm\n",
    "from model import BiRNN_CRF\n",
    "from data import DataLoader, DataIterator\n",
    "from utils import custom_cross_entropy, build_mask, cosine_similarity"
   ]
  },
  {
   "cell_type": "code",
   "execution_count": 19,
   "metadata": {},
   "outputs": [
    {
     "name": "stderr",
     "output_type": "stream",
     "text": [
      "Loading Data: 100%|##########| 1001/1001 [00:00<00:00, 1123.96lines/s]\n"
     ]
    }
   ],
   "source": [
    "\n",
    "batch_size = 16\n",
    "\n",
    "data_path = \"data/testset.txt\"\n",
    "data_loader = DataLoader(data_path, verbose=True)\n",
    "\n",
    "X, y, seq = data_loader.run_pipeline(0.2) # splits data into train/test with ratio 1:4\n",
    "\n",
    "train_iter = DataIterator(X[0], y[0], seq[0], batch_size=batch_size)\n",
    "test_iter = DataIterator(X[1], y[1], seq[1], batch_size=batch_size)\n"
   ]
  },
  {
   "cell_type": "markdown",
   "metadata": {},
   "source": [
    "\n",
    "## Creating model and optimizer\n",
    "\n",
    "Creating the model is done in the following way. We can choose to either use softmax outputs or crf outputs by setting the crf_on flag. The hyperparameters such as embedding dimension and RNN size are passed as arguments. We use Adam optimizer and a custom cross-entropy error function.\n",
    "\n",
    "To see the full implementation of the model see the **model.py** file."
   ]
  },
  {
   "cell_type": "code",
   "execution_count": 32,
   "metadata": {},
   "outputs": [
    {
     "name": "stdout",
     "output_type": "stream",
     "text": [
      "Using device: cpu\n",
      "BiRNN_CRF(\n",
      "  (embedding): Embedding(21, 64)\n",
      "  (LSTM): LSTM(64, 256, num_layers=2, batch_first=True, dropout=0.5, bidirectional=True)\n",
      "  (dropout): Dropout(p=0.5)\n",
      "  (linear_hidden): Linear(in_features=512, out_features=100, bias=True)\n",
      "  (f): Linear(in_features=100, out_features=20, bias=True)\n",
      ")\n"
     ]
    }
   ],
   "source": [
    "device = torch.device(\"cuda\" if torch.cuda.is_available() else \"cpu\")\n",
    "\n",
    "crf_on = False\n",
    "\n",
    "model = BiRNN_CRF(device, embedding_dim=64,\n",
    "         rnn_hidden_size=256, rnn_layers=2,\n",
    "         rnn_dropout=0.5, hidden_linear_units=100,\n",
    "         classes=20, linear_dropout=0.5, crf_on=crf_on)\n",
    "\n",
    "optimizer = optim.Adam(model.parameters(), lr=1e-4, weight_decay=0)\n",
    "criterion = custom_cross_entropy\n",
    "\n",
    "print(\"Using device: {}\".format(device))\n",
    "print(model)"
   ]
  },
  {
   "cell_type": "markdown",
   "metadata": {},
   "source": [
    "## Training Loop\n",
    "\n",
    "We can now create a training loop as the following.\n",
    "Whilst training we record errors and accuracy of the models. The accuracy is measured as the cosine similarity of the predicted profile to the target profile.\n"
   ]
  },
  {
   "cell_type": "code",
   "execution_count": 25,
   "metadata": {},
   "outputs": [
    {
     "name": "stdout",
     "output_type": "stream",
     "text": [
      "Epoch: 1 / 1\n"
     ]
    },
    {
     "data": {
      "application/vnd.jupyter.widget-view+json": {
       "model_id": "860e3081eec74f74a4bb3bd699d4774e",
       "version_major": 2,
       "version_minor": 0
      },
      "text/html": [
       "<p>Failed to display Jupyter Widget of type <code>HBox</code>.</p>\n",
       "<p>\n",
       "  If you're reading this message in the Jupyter Notebook or JupyterLab Notebook, it may mean\n",
       "  that the widgets JavaScript is still loading. If this message persists, it\n",
       "  likely means that the widgets JavaScript library is either not installed or\n",
       "  not enabled. See the <a href=\"https://ipywidgets.readthedocs.io/en/stable/user_install.html\">Jupyter\n",
       "  Widgets Documentation</a> for setup instructions.\n",
       "</p>\n",
       "<p>\n",
       "  If you're reading this message in another frontend (for example, a static\n",
       "  rendering on GitHub or <a href=\"https://nbviewer.jupyter.org/\">NBViewer</a>),\n",
       "  it may mean that your frontend doesn't currently support widgets.\n",
       "</p>\n"
      ],
      "text/plain": [
       "HBox(children=(IntProgress(value=0, description='Training', max=50, style=ProgressStyle(description_width='initial')), HTML(value='')))"
      ]
     },
     "metadata": {},
     "output_type": "display_data"
    },
    {
     "name": "stdout",
     "output_type": "stream",
     "text": [
      "\n"
     ]
    },
    {
     "data": {
      "application/vnd.jupyter.widget-view+json": {
       "model_id": "2375e437f6cb4b928c64714409796c48",
       "version_major": 2,
       "version_minor": 0
      },
      "text/html": [
       "<p>Failed to display Jupyter Widget of type <code>HBox</code>.</p>\n",
       "<p>\n",
       "  If you're reading this message in the Jupyter Notebook or JupyterLab Notebook, it may mean\n",
       "  that the widgets JavaScript is still loading. If this message persists, it\n",
       "  likely means that the widgets JavaScript library is either not installed or\n",
       "  not enabled. See the <a href=\"https://ipywidgets.readthedocs.io/en/stable/user_install.html\">Jupyter\n",
       "  Widgets Documentation</a> for setup instructions.\n",
       "</p>\n",
       "<p>\n",
       "  If you're reading this message in another frontend (for example, a static\n",
       "  rendering on GitHub or <a href=\"https://nbviewer.jupyter.org/\">NBViewer</a>),\n",
       "  it may mean that your frontend doesn't currently support widgets.\n",
       "</p>\n"
      ],
      "text/plain": [
       "HBox(children=(IntProgress(value=0, description='Testing', max=12, style=ProgressStyle(description_width='initial')), HTML(value='')))"
      ]
     },
     "metadata": {},
     "output_type": "display_data"
    },
    {
     "name": "stdout",
     "output_type": "stream",
     "text": [
      "\n",
      "Training error: 2.8930,\tTest error: 2.8435\t\tTraining accuracy: 0.6905\tTest accuracy: 0.7216\n"
     ]
    }
   ],
   "source": [
    "train_err, test_err = [], []\n",
    "train_acc, test_acc = [], []\n",
    "nr_epochs = 5\n",
    "\n",
    "for epoch in range(nr_epochs):\n",
    "\n",
    "    print(\"Epoch: {} / {}\".format(epoch+1, nr_epochs))\n",
    "\n",
    "    ### TRAIN LOOP ###\n",
    "    err = []\n",
    "    acc = []\n",
    "    model.train()\n",
    "    for proteins, sequence_lengths, targets in tqdm(train_iter, ascii=False, desc=\"Training\", total=int(len(X[0]) / batch_size), unit=\"batch\"):\n",
    "\n",
    "        inputs = proteins.to(device)\n",
    "        seq_lens = sequence_lengths.to(device)\n",
    "        targets = targets.to(device)\n",
    "\n",
    "        predictions = model(inputs, seq_lens)\n",
    "\n",
    "        mask = build_mask(sequence_lengths).to(device)\n",
    "\n",
    "        optimizer.zero_grad()\n",
    "        batch_loss = criterion(predictions, targets, mask)\n",
    "        batch_loss.backward()\n",
    "        optimizer.step()\n",
    "\n",
    "        cos_sim = cosine_similarity(predictions, targets, mask)\n",
    "\n",
    "        err.append(batch_loss.cpu().item())\n",
    "        acc.append(cos_sim.cpu().item())\n",
    "\n",
    "    epoch_trainig_error = sum(err) / len(err)\n",
    "    epoch_training_accuracy = sum(acc) / len(acc)\n",
    "    train_err.append(epoch_trainig_error)\n",
    "    train_acc.append(epoch_training_accuracy)\n",
    "\n",
    "\n",
    "    ### TEST LOOP ###\n",
    "    err = []\n",
    "    acc = []\n",
    "    model.eval()\n",
    "    for proteins, sequence_lengths, targets in tqdm(test_iter, ascii=False, desc=\"Testing\", total=int(len(X[1]) / batch_size), unit=\"batch\"):\n",
    "\n",
    "        inputs = proteins.to(device)\n",
    "        seq_lens = sequence_lengths.to(device)\n",
    "        targets = targets.to(device)\n",
    "\n",
    "        predictions = model(inputs, seq_lens)      \n",
    "\n",
    "        mask = build_mask(sequence_lengths).to(device)\n",
    "\n",
    "        batch_loss = criterion(predictions, targets, mask)\n",
    "\n",
    "        cos_sim = cosine_similarity(predictions, targets, mask)\n",
    "\n",
    "        err.append(batch_loss.cpu().item())\n",
    "        acc.append(cos_sim.cpu().item())\n",
    "\n",
    "    epoch_test_error = sum(err) / len(err)\n",
    "    epoch_test_accuracy = sum(acc) / len(acc)\n",
    "    test_err.append(epoch_test_error)\n",
    "    test_acc.append(epoch_test_accuracy)\n",
    "\n",
    "    print(\"Training error: {0:.4f},\\tTest error: {1:.4f}\\t\\tTraining accuracy: {2:.4f}\\tTest accuracy: {3:.4f}\"\n",
    "          .format(epoch_trainig_error, epoch_test_error, epoch_training_accuracy, epoch_test_accuracy))"
   ]
  },
  {
   "cell_type": "markdown",
   "metadata": {},
   "source": [
    "## Results\n",
    "\n",
    "We can now print the results of the model.\n"
   ]
  },
  {
   "cell_type": "code",
   "execution_count": 30,
   "metadata": {},
   "outputs": [
    {
     "data": {
      "image/png": "[encoded data removed]",
      "text/plain": [
       "<matplotlib.figure.Figure at 0x107122588>"
      ]
     },
     "metadata": {},
     "output_type": "display_data"
    },
    {
     "data": {
      "image/png": "[encoded data removed]",
      "text/plain": [
       "<matplotlib.figure.Figure at 0x1a0c2ba3c8>"
      ]
     },
     "metadata": {},
     "output_type": "display_data"
    }
   ],
   "source": [
    "plt.style.use('ggplot')\n",
    "plt.figure(0, figsize=(7,6))\n",
    "plt.plot(train_err, \"o-\", c=\"r\", label=\"train error\")\n",
    "plt.plot(test_err, \"o-\", c=\"b\", label=\"test error\")\n",
    "plt.xlabel(\"Epoch\")\n",
    "plt.ylabel(\"Cross-Entropy Loss\")\n",
    "plt.legend()\n",
    "plt.show()\n",
    "\n",
    "plt.figure(1, figsize=(7,6))\n",
    "plt.plot(train_acc, \"o-\", c=\"r\", label=\"crf train accuracy\")\n",
    "plt.plot(test_acc, \"o-\", c=\"b\", label=\"crf test accuracy\")\n",
    "plt.xlabel(\"Epoch\")\n",
    "plt.ylabel(\"Cos Similarity\")\n",
    "plt.legend()\n",
    "plt.show()"
   ]
  },
  {
   "cell_type": "markdown",
   "metadata": {},
   "source": [
    "## Predictions\n",
    "\n",
    "The following shows the output of the model given a batch of protein sequences."
   ]
  },
  {
   "cell_type": "code",
   "execution_count": 43,
   "metadata": {},
   "outputs": [
    {
     "name": "stdout",
     "output_type": "stream",
     "text": [
      "Protein sequence:\n",
      "\n",
      "tensor([ 3,  8,  7, 16, 10,  8, 16, 13, 19, 14,  0, 16,  7, 11, 14, 11, 17, 16,\n",
      "         0,  5,  0,  3,  0,  6, 16, 10, 10, 16,  0,  3,  0,  6,  0,  9, 18, 10,\n",
      "        10, 16, 11,  3,  1,  1, 10,  1,  0, 19,  7,  1, 15,  3,  0,  1, 19,  1,\n",
      "        17, 16,  0,  1, 10, 14,  6,  3, 13,  7, 11, 16,  9, 10, 14,  1, 14, 19,\n",
      "         0,  8,  1,  7,  1, 10, 19,  9, 16, 16, 15, 16,  7,  8, 19, 12,  0, 19,\n",
      "         2, 16,  3, 15,  7,  1, 16,  6, 17, 16,  0,  8,  3, 10,  0, 11,  6,  1,\n",
      "        15, 10, 13, 14,  0,  0,  1,  2,  7,  9, 19, 19, 10,  2,  7, 11, 16, 10,\n",
      "         0,  0,  1, 15,  9, 10,  3,  7, 11,  5, 10, 17,  0, 18, 16,  6,  2,  0,\n",
      "        18, 18,  3,  8, 15,  1, 11,  6, 17,  7,  1, 14, 15,  9, 18,  7,  3, 19,\n",
      "        19, 18, 16, 10,  7,  4,  3, 16,  5,  7, 18,  7, 13, 14, 12,  0, 13,  3,\n",
      "        19,  1, 15,  7, 11, 11,  5, 17,  6,  7,  7, 19,  0, 10,  7, 15,  2,  3,\n",
      "         2, 14,  9, 10,  1,  5,  7,  8,  7, 19, 17, 10, 10,  3,  8,  7, 14, 19,\n",
      "        14, 16, 19, 15,  0, 16,  7, 16])\n",
      "torch.Size([16, 224])\n",
      "\n",
      "\n",
      "Profile of protein:\n",
      "\n",
      "tensor([[0.0451, 0.0476, 0.1135,  ..., 0.0104, 0.0262, 0.0152],\n",
      "        [0.0430, 0.0475, 0.1118,  ..., 0.0045, 0.0160, 0.0054],\n",
      "        [0.0609, 0.0318, 0.0986,  ..., 0.0053, 0.0086, 0.0170],\n",
      "        ...,\n",
      "        [0.0791, 0.0818, 0.0425,  ..., 0.0113, 0.0017, 0.0320],\n",
      "        [0.0184, 0.0028, 0.0071,  ..., 0.0005, 0.0012, 0.0010],\n",
      "        [0.0556, 0.0996, 0.0132,  ..., 0.0014, 0.0043, 0.0087]])\n",
      "torch.Size([16, 224, 20])\n",
      "\n",
      "\n",
      "Model prediction:\n",
      "\n",
      "tensor([[0.0499, 0.0532, 0.0524,  ..., 0.0519, 0.0443, 0.0504],\n",
      "        [0.0548, 0.0412, 0.0526,  ..., 0.0505, 0.0388, 0.0489],\n",
      "        [0.0531, 0.0490, 0.0558,  ..., 0.0554, 0.0430, 0.0481],\n",
      "        ...,\n",
      "        [0.0562, 0.0471, 0.0528,  ..., 0.0566, 0.0437, 0.0457],\n",
      "        [0.0552, 0.0496, 0.0554,  ..., 0.0603, 0.0420, 0.0469],\n",
      "        [0.0530, 0.0488, 0.0549,  ..., 0.0586, 0.0414, 0.0479]],\n",
      "       grad_fn=<SelectBackward>)\n",
      "torch.Size([16, 224, 20])\n"
     ]
    }
   ],
   "source": [
    "proteins, seq_lens, profiles = next(train_iter)\n",
    "\n",
    "predictions = model(proteins, seq_lens)\n",
    "\n",
    "print(\"Protein sequence:\\n\")\n",
    "print(proteins[0])\n",
    "print(proteins.shape)\n",
    "print(\"\\n\")\n",
    "\n",
    "print(\"Profile of protein:\\n\")\n",
    "print(profiles[0])\n",
    "print(profiles.shape)\n",
    "print(\"\\n\")\n",
    "\n",
    "print(\"Model prediction:\\n\")\n",
    "print(predictions[0])\n",
    "print(predictions.shape)\n"
   ]
  }
 ],
 "metadata": {
  "kernelspec": {
   "display_name": "Python 3",
   "language": "python",
   "name": "python3"
  },
  "language_info": {
   "codemirror_mode": {
    "name": "ipython",
    "version": 3
   },
   "file_extension": ".py",
   "mimetype": "text/x-python",
   "name": "python",
   "nbconvert_exporter": "python",
   "pygments_lexer": "ipython3",
   "version": "3.6.4"
  }
 },
 "nbformat": 4,
 "nbformat_minor": 2
}
